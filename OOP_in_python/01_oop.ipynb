{
 "cells": [
  {
   "cell_type": "markdown",
   "metadata": {},
   "source": [
    "# ATM Application"
   ]
  },
  {
   "cell_type": "code",
   "execution_count": 2,
   "metadata": {},
   "outputs": [],
   "source": [
    "class Atm:\n",
    "\n",
    "    # constructor\n",
    "    def __init__(self):\n",
    "        print(id(self))\n",
    "        self.pin = ''\n",
    "        self.balance = 0\n",
    "        self.menu()\n",
    "    \n",
    "    def welcome(self):\n",
    "        print(\"Welcome to the ATM!\")\n",
    "        self.menu()\n",
    "    def menu(self):\n",
    "        user_input = input(\"\"\"\n",
    "        1. Create Pin\n",
    "        2. Change Pin\n",
    "        3. Check Balance\n",
    "        4. Withdraw\n",
    "        Press Any other key to exit...\"\"\")\n",
    "        if user_input == '1':\n",
    "            self.create_pin()\n",
    "        elif user_input == '2':\n",
    "            # change pin\n",
    "            self.change_pin()\n",
    "        elif user_input == '3':\n",
    "            # check balance\n",
    "            self.check_balance()\n",
    "        elif user_input == '4':\n",
    "            # withdraw\n",
    "            self.withdraw()\n",
    "        else:\n",
    "            print(\"Goodbye!\")\n",
    "            exit()\n",
    "\n",
    "    def create_pin(self):\n",
    "        user_pin = input(\"Enter your PIN:\")\n",
    "        self.pin = user_pin\n",
    "        user_balance = int(input(\"Enter your account balance!\"))\n",
    "        self.balance = user_balance\n",
    "        print(\"PIN created successfully!\")\n",
    "        self.menu()\n",
    "\n",
    "    def change_pin(self):\n",
    "        existing_pin = input(\"Enter existing pin: \")\n",
    "        if existing_pin == self.pin:\n",
    "            new_pin = input(\"Enter new pin: \")\n",
    "            self.pin = new_pin\n",
    "            print(\"Pin changed successfully!\")\n",
    "            self.menu()\n",
    "        else:\n",
    "            print(\"Incorrect pin!\")\n",
    "            self.menu()\n",
    "    \n",
    "    def check_balance(self):\n",
    "        pin = input(\"Enter your PIN: \")\n",
    "        if pin == self.pin:\n",
    "            print(f\"Your balance is: {self.balance}\")\n",
    "            self.menu()\n",
    "        else:\n",
    "            print(\"Incorrect pin!\")\n",
    "            self.menu()\n",
    "    \n",
    "    def withdraw(self):\n",
    "        pin = input(\"Enter your PIN: \")\n",
    "        if pin == self.pin:\n",
    "            amount = int(input(\"Enter amount to withdraw: \"))\n",
    "            if amount <= self.balance:\n",
    "                self.balance -= amount\n",
    "                print(f\"Amount withdrawn: {amount}\")\n",
    "                print(f\"Your new balance is: {self.balance}\")\n",
    "                self.menu()\n",
    "            else:\n",
    "                print(\"Insufficient funds!\")\n",
    "                self.menu()\n",
    "        else:\n",
    "            print(\"Incorrect pin!\")\n",
    "            self.menu()"
   ]
  },
  {
   "cell_type": "code",
   "execution_count": 3,
   "metadata": {},
   "outputs": [
    {
     "name": "stdout",
     "output_type": "stream",
     "text": [
      "1841917648704\n",
      "Insufficient funds!\n",
      "Goodbye!\n"
     ]
    },
    {
     "ename": "",
     "evalue": "",
     "output_type": "error",
     "traceback": [
      "\u001b[1;31mThe Kernel crashed while executing code in the current cell or a previous cell. \n",
      "\u001b[1;31mPlease review the code in the cell(s) to identify a possible cause of the failure. \n",
      "\u001b[1;31mClick <a href='https://aka.ms/vscodeJupyterKernelCrash'>here</a> for more info. \n",
      "\u001b[1;31mView Jupyter <a href='command:jupyter.viewOutput'>log</a> for further details."
     ]
    }
   ],
   "source": [
    "x = Atm()"
   ]
  },
  {
   "cell_type": "code",
   "execution_count": 4,
   "metadata": {},
   "outputs": [],
   "source": [
    "class Fraction:\n",
    "\n",
    "    def __init__(self, x, y):\n",
    "        self.num = x\n",
    "        self.den = y\n",
    "\n",
    "    def __str__(self):\n",
    "        return '{}/{}'.format(self.num, self.den)"
   ]
  },
  {
   "cell_type": "code",
   "execution_count": 5,
   "metadata": {},
   "outputs": [
    {
     "name": "stdout",
     "output_type": "stream",
     "text": [
      "3/4\n"
     ]
    }
   ],
   "source": [
    "bj = Fraction(3,4)\n",
    "print(bj)"
   ]
  }
 ],
 "metadata": {
  "kernelspec": {
   "display_name": "base",
   "language": "python",
   "name": "python3"
  },
  "language_info": {
   "codemirror_mode": {
    "name": "ipython",
    "version": 3
   },
   "file_extension": ".py",
   "mimetype": "text/x-python",
   "name": "python",
   "nbconvert_exporter": "python",
   "pygments_lexer": "ipython3",
   "version": "3.12.4"
  }
 },
 "nbformat": 4,
 "nbformat_minor": 2
}
